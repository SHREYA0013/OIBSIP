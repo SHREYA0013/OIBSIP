{
 "cells": [
  {
   "cell_type": "markdown",
   "id": "e9cb13cd",
   "metadata": {},
   "source": [
    "# Voice Assistant:"
   ]
  },
  {
   "cell_type": "code",
   "execution_count": 9,
   "id": "cf229e55",
   "metadata": {},
   "outputs": [
    {
     "name": "stdout",
     "output_type": "stream",
     "text": [
      "Requirement already satisfied: SpeechRecognition in c:\\programming\\lib\\site-packages (3.10.0)\n",
      "Requirement already satisfied: requests>=2.26.0 in c:\\programming\\lib\\site-packages (from SpeechRecognition) (2.31.0)\n",
      "Requirement already satisfied: charset-normalizer<4,>=2 in c:\\programming\\lib\\site-packages (from requests>=2.26.0->SpeechRecognition) (2.0.4)\n",
      "Requirement already satisfied: idna<4,>=2.5 in c:\\programming\\lib\\site-packages (from requests>=2.26.0->SpeechRecognition) (3.4)\n",
      "Requirement already satisfied: urllib3<3,>=1.21.1 in c:\\programming\\lib\\site-packages (from requests>=2.26.0->SpeechRecognition) (1.26.16)\n",
      "Requirement already satisfied: certifi>=2017.4.17 in c:\\programming\\lib\\site-packages (from requests>=2.26.0->SpeechRecognition) (2023.7.22)\n",
      "Requirement already satisfied: pyaudio in c:\\programming\\lib\\site-packages (0.2.14)\n",
      "Requirement already satisfied: pyttsx3 in c:\\programming\\lib\\site-packages (2.90)\n",
      "Requirement already satisfied: comtypes in c:\\programming\\lib\\site-packages (from pyttsx3) (1.2.0)\n",
      "Requirement already satisfied: pypiwin32 in c:\\programming\\lib\\site-packages (from pyttsx3) (223)\n",
      "Requirement already satisfied: pywin32 in c:\\programming\\lib\\site-packages (from pyttsx3) (305.1)\n",
      "Requirement already satisfied: openai in c:\\programming\\lib\\site-packages (1.3.3)\n",
      "Requirement already satisfied: anyio<4,>=3.5.0 in c:\\programming\\lib\\site-packages (from openai) (3.5.0)\n",
      "Requirement already satisfied: distro<2,>=1.7.0 in c:\\programming\\lib\\site-packages (from openai) (1.8.0)\n",
      "Requirement already satisfied: httpx<1,>=0.23.0 in c:\\programming\\lib\\site-packages (from openai) (0.25.1)\n",
      "Requirement already satisfied: pydantic<3,>=1.9.0 in c:\\programming\\lib\\site-packages (from openai) (1.10.8)\n",
      "Requirement already satisfied: tqdm>4 in c:\\programming\\lib\\site-packages (from openai) (4.65.0)\n",
      "Requirement already satisfied: typing-extensions<5,>=4.5 in c:\\programming\\lib\\site-packages (from openai) (4.7.1)\n",
      "Requirement already satisfied: idna>=2.8 in c:\\programming\\lib\\site-packages (from anyio<4,>=3.5.0->openai) (3.4)\n",
      "Requirement already satisfied: sniffio>=1.1 in c:\\programming\\lib\\site-packages (from anyio<4,>=3.5.0->openai) (1.2.0)\n",
      "Requirement already satisfied: certifi in c:\\programming\\lib\\site-packages (from httpx<1,>=0.23.0->openai) (2023.7.22)\n",
      "Requirement already satisfied: httpcore in c:\\programming\\lib\\site-packages (from httpx<1,>=0.23.0->openai) (1.0.2)\n",
      "Requirement already satisfied: colorama in c:\\programming\\lib\\site-packages (from tqdm>4->openai) (0.4.6)\n",
      "Requirement already satisfied: h11<0.15,>=0.13 in c:\\programming\\lib\\site-packages (from httpcore->httpx<1,>=0.23.0->openai) (0.14.0)\n",
      "Requirement already satisfied: google-cloud-speech in c:\\programming\\lib\\site-packages (2.22.0)\n",
      "Requirement already satisfied: google-api-core[grpc]!=2.0.*,!=2.1.*,!=2.10.*,!=2.2.*,!=2.3.*,!=2.4.*,!=2.5.*,!=2.6.*,!=2.7.*,!=2.8.*,!=2.9.*,<3.0.0dev,>=1.34.0 in c:\\programming\\lib\\site-packages (from google-cloud-speech) (2.14.0)\n",
      "Requirement already satisfied: proto-plus<2.0.0dev,>=1.22.0 in c:\\programming\\lib\\site-packages (from google-cloud-speech) (1.22.3)\n",
      "Requirement already satisfied: protobuf!=3.20.0,!=3.20.1,!=4.21.0,!=4.21.1,!=4.21.2,!=4.21.3,!=4.21.4,!=4.21.5,<5.0.0dev,>=3.19.5 in c:\\programming\\lib\\site-packages (from google-cloud-speech) (4.25.1)\n",
      "Requirement already satisfied: googleapis-common-protos<2.0.dev0,>=1.56.2 in c:\\programming\\lib\\site-packages (from google-api-core[grpc]!=2.0.*,!=2.1.*,!=2.10.*,!=2.2.*,!=2.3.*,!=2.4.*,!=2.5.*,!=2.6.*,!=2.7.*,!=2.8.*,!=2.9.*,<3.0.0dev,>=1.34.0->google-cloud-speech) (1.61.0)\n",
      "Requirement already satisfied: google-auth<3.0.dev0,>=2.14.1 in c:\\programming\\lib\\site-packages (from google-api-core[grpc]!=2.0.*,!=2.1.*,!=2.10.*,!=2.2.*,!=2.3.*,!=2.4.*,!=2.5.*,!=2.6.*,!=2.7.*,!=2.8.*,!=2.9.*,<3.0.0dev,>=1.34.0->google-cloud-speech) (2.23.4)\n",
      "Requirement already satisfied: requests<3.0.0.dev0,>=2.18.0 in c:\\programming\\lib\\site-packages (from google-api-core[grpc]!=2.0.*,!=2.1.*,!=2.10.*,!=2.2.*,!=2.3.*,!=2.4.*,!=2.5.*,!=2.6.*,!=2.7.*,!=2.8.*,!=2.9.*,<3.0.0dev,>=1.34.0->google-cloud-speech) (2.31.0)\n",
      "Requirement already satisfied: grpcio<2.0dev,>=1.33.2 in c:\\programming\\lib\\site-packages (from google-api-core[grpc]!=2.0.*,!=2.1.*,!=2.10.*,!=2.2.*,!=2.3.*,!=2.4.*,!=2.5.*,!=2.6.*,!=2.7.*,!=2.8.*,!=2.9.*,<3.0.0dev,>=1.34.0->google-cloud-speech) (1.59.3)\n",
      "Requirement already satisfied: grpcio-status<2.0.dev0,>=1.33.2 in c:\\programming\\lib\\site-packages (from google-api-core[grpc]!=2.0.*,!=2.1.*,!=2.10.*,!=2.2.*,!=2.3.*,!=2.4.*,!=2.5.*,!=2.6.*,!=2.7.*,!=2.8.*,!=2.9.*,<3.0.0dev,>=1.34.0->google-cloud-speech) (1.59.3)\n",
      "Requirement already satisfied: cachetools<6.0,>=2.0.0 in c:\\programming\\lib\\site-packages (from google-auth<3.0.dev0,>=2.14.1->google-api-core[grpc]!=2.0.*,!=2.1.*,!=2.10.*,!=2.2.*,!=2.3.*,!=2.4.*,!=2.5.*,!=2.6.*,!=2.7.*,!=2.8.*,!=2.9.*,<3.0.0dev,>=1.34.0->google-cloud-speech) (5.3.2)\n",
      "Requirement already satisfied: pyasn1-modules>=0.2.1 in c:\\programming\\lib\\site-packages (from google-auth<3.0.dev0,>=2.14.1->google-api-core[grpc]!=2.0.*,!=2.1.*,!=2.10.*,!=2.2.*,!=2.3.*,!=2.4.*,!=2.5.*,!=2.6.*,!=2.7.*,!=2.8.*,!=2.9.*,<3.0.0dev,>=1.34.0->google-cloud-speech) (0.2.8)\n",
      "Requirement already satisfied: rsa<5,>=3.1.4 in c:\\programming\\lib\\site-packages (from google-auth<3.0.dev0,>=2.14.1->google-api-core[grpc]!=2.0.*,!=2.1.*,!=2.10.*,!=2.2.*,!=2.3.*,!=2.4.*,!=2.5.*,!=2.6.*,!=2.7.*,!=2.8.*,!=2.9.*,<3.0.0dev,>=1.34.0->google-cloud-speech) (4.9)\n",
      "Requirement already satisfied: charset-normalizer<4,>=2 in c:\\programming\\lib\\site-packages (from requests<3.0.0.dev0,>=2.18.0->google-api-core[grpc]!=2.0.*,!=2.1.*,!=2.10.*,!=2.2.*,!=2.3.*,!=2.4.*,!=2.5.*,!=2.6.*,!=2.7.*,!=2.8.*,!=2.9.*,<3.0.0dev,>=1.34.0->google-cloud-speech) (2.0.4)\n",
      "Requirement already satisfied: idna<4,>=2.5 in c:\\programming\\lib\\site-packages (from requests<3.0.0.dev0,>=2.18.0->google-api-core[grpc]!=2.0.*,!=2.1.*,!=2.10.*,!=2.2.*,!=2.3.*,!=2.4.*,!=2.5.*,!=2.6.*,!=2.7.*,!=2.8.*,!=2.9.*,<3.0.0dev,>=1.34.0->google-cloud-speech) (3.4)\n",
      "Requirement already satisfied: urllib3<3,>=1.21.1 in c:\\programming\\lib\\site-packages (from requests<3.0.0.dev0,>=2.18.0->google-api-core[grpc]!=2.0.*,!=2.1.*,!=2.10.*,!=2.2.*,!=2.3.*,!=2.4.*,!=2.5.*,!=2.6.*,!=2.7.*,!=2.8.*,!=2.9.*,<3.0.0dev,>=1.34.0->google-cloud-speech) (1.26.16)\n",
      "Requirement already satisfied: certifi>=2017.4.17 in c:\\programming\\lib\\site-packages (from requests<3.0.0.dev0,>=2.18.0->google-api-core[grpc]!=2.0.*,!=2.1.*,!=2.10.*,!=2.2.*,!=2.3.*,!=2.4.*,!=2.5.*,!=2.6.*,!=2.7.*,!=2.8.*,!=2.9.*,<3.0.0dev,>=1.34.0->google-cloud-speech) (2023.7.22)\n",
      "Requirement already satisfied: pyasn1<0.5.0,>=0.4.6 in c:\\programming\\lib\\site-packages (from pyasn1-modules>=0.2.1->google-auth<3.0.dev0,>=2.14.1->google-api-core[grpc]!=2.0.*,!=2.1.*,!=2.10.*,!=2.2.*,!=2.3.*,!=2.4.*,!=2.5.*,!=2.6.*,!=2.7.*,!=2.8.*,!=2.9.*,<3.0.0dev,>=1.34.0->google-cloud-speech) (0.4.8)\n",
      "Collecting ibm-watson\n",
      "  Downloading ibm-watson-7.0.1.tar.gz (389 kB)\n",
      "     ---------------------------------------- 0.0/389.3 kB ? eta -:--:--\n",
      "     - -------------------------------------- 10.2/389.3 kB ? eta -:--:--\n",
      "     --- --------------------------------- 41.0/389.3 kB 393.8 kB/s eta 0:00:01\n",
      "     ---------- ------------------------- 112.6/389.3 kB 726.2 kB/s eta 0:00:01\n",
      "     --------------------- ---------------- 225.3/389.3 kB 1.3 MB/s eta 0:00:01\n",
      "     -------------------------------------- 389.3/389.3 kB 1.7 MB/s eta 0:00:00\n",
      "  Installing build dependencies: started\n",
      "  Installing build dependencies: finished with status 'done'\n",
      "  Getting requirements to build wheel: started\n",
      "  Getting requirements to build wheel: finished with status 'done'\n",
      "  Preparing metadata (pyproject.toml): started\n",
      "  Preparing metadata (pyproject.toml): finished with status 'done'\n",
      "Requirement already satisfied: requests<3.0,>=2.0 in c:\\programming\\lib\\site-packages (from ibm-watson) (2.31.0)\n",
      "Requirement already satisfied: python-dateutil>=2.5.3 in c:\\programming\\lib\\site-packages (from ibm-watson) (2.8.2)\n",
      "Collecting websocket-client>=1.1.0 (from ibm-watson)\n",
      "  Obtaining dependency information for websocket-client>=1.1.0 from https://files.pythonhosted.org/packages/c4/3c/1892ce394828c43d4f65248ebdee3854114266b75d1f5915cb211155ad7b/websocket_client-1.6.4-py3-none-any.whl.metadata\n",
      "  Downloading websocket_client-1.6.4-py3-none-any.whl.metadata (7.7 kB)\n",
      "Collecting ibm-cloud-sdk-core==3.*,>=3.3.6 (from ibm-watson)\n",
      "  Downloading ibm-cloud-sdk-core-3.18.0.tar.gz (57 kB)\n",
      "     ---------------------------------------- 0.0/57.9 kB ? eta -:--:--\n",
      "     ---------------------------------------- 57.9/57.9 kB ? eta 0:00:00\n",
      "  Installing build dependencies: started\n",
      "  Installing build dependencies: finished with status 'done'\n",
      "  Getting requirements to build wheel: started\n",
      "  Getting requirements to build wheel: finished with status 'done'\n",
      "  Preparing metadata (pyproject.toml): started\n",
      "  Preparing metadata (pyproject.toml): finished with status 'done'\n",
      "Collecting urllib3<2.0.0,>=1.26.18 (from ibm-cloud-sdk-core==3.*,>=3.3.6->ibm-watson)\n",
      "  Obtaining dependency information for urllib3<2.0.0,>=1.26.18 from https://files.pythonhosted.org/packages/b0/53/aa91e163dcfd1e5b82d8a890ecf13314e3e149c05270cc644581f77f17fd/urllib3-1.26.18-py2.py3-none-any.whl.metadata\n",
      "  Downloading urllib3-1.26.18-py2.py3-none-any.whl.metadata (48 kB)\n",
      "     ---------------------------------------- 0.0/48.9 kB ? eta -:--:--\n",
      "     ---------------------------------------- 48.9/48.9 kB ? eta 0:00:00\n",
      "Collecting PyJWT<3.0.0,>=2.8.0 (from ibm-cloud-sdk-core==3.*,>=3.3.6->ibm-watson)\n",
      "  Obtaining dependency information for PyJWT<3.0.0,>=2.8.0 from https://files.pythonhosted.org/packages/2b/4f/e04a8067c7c96c364cef7ef73906504e2f40d690811c021e1a1901473a19/PyJWT-2.8.0-py3-none-any.whl.metadata\n",
      "  Downloading PyJWT-2.8.0-py3-none-any.whl.metadata (4.2 kB)\n",
      "Requirement already satisfied: six>=1.5 in c:\\programming\\lib\\site-packages (from python-dateutil>=2.5.3->ibm-watson) (1.16.0)\n",
      "Requirement already satisfied: charset-normalizer<4,>=2 in c:\\programming\\lib\\site-packages (from requests<3.0,>=2.0->ibm-watson) (2.0.4)\n",
      "Requirement already satisfied: idna<4,>=2.5 in c:\\programming\\lib\\site-packages (from requests<3.0,>=2.0->ibm-watson) (3.4)\n",
      "Requirement already satisfied: certifi>=2017.4.17 in c:\\programming\\lib\\site-packages (from requests<3.0,>=2.0->ibm-watson) (2023.7.22)\n",
      "Downloading websocket_client-1.6.4-py3-none-any.whl (57 kB)\n",
      "   ---------------------------------------- 0.0/57.3 kB ? eta -:--:--\n",
      "   ---------------------------------------- 57.3/57.3 kB ? eta 0:00:00\n",
      "Downloading PyJWT-2.8.0-py3-none-any.whl (22 kB)\n",
      "Downloading urllib3-1.26.18-py2.py3-none-any.whl (143 kB)\n",
      "   ---------------------------------------- 0.0/143.8 kB ? eta -:--:--\n",
      "   ---------------------------------------- 143.8/143.8 kB 8.3 MB/s eta 0:00:00\n",
      "Building wheels for collected packages: ibm-watson, ibm-cloud-sdk-core\n",
      "  Building wheel for ibm-watson (pyproject.toml): started\n",
      "  Building wheel for ibm-watson (pyproject.toml): finished with status 'done'\n",
      "  Created wheel for ibm-watson: filename=ibm_watson-7.0.1-py3-none-any.whl size=389835 sha256=3dc9165f8d5f8c1b961a49f61491f3d2b8a75b7d2bbc2a06c55416726ab91a60\n",
      "  Stored in directory: c:\\users\\shrey\\appdata\\local\\pip\\cache\\wheels\\16\\0b\\eb\\ee564312a67aa37749da8cd753e8bb3637b2907e2befc6c50c\n",
      "  Building wheel for ibm-cloud-sdk-core (pyproject.toml): started\n",
      "  Building wheel for ibm-cloud-sdk-core (pyproject.toml): finished with status 'done'\n",
      "  Created wheel for ibm-cloud-sdk-core: filename=ibm_cloud_sdk_core-3.18.0-py3-none-any.whl size=94355 sha256=7849f29f7a0897a65b3713539a4791350e2e1bd0fcfde23dade1d80529d7f578\n",
      "  Stored in directory: c:\\users\\shrey\\appdata\\local\\pip\\cache\\wheels\\1b\\6b\\4c\\48765ce9d6ffaf283b20b9b8d80484e68aa8f41283c8f39b45\n",
      "Successfully built ibm-watson ibm-cloud-sdk-core\n",
      "Installing collected packages: websocket-client, urllib3, PyJWT, ibm-cloud-sdk-core, ibm-watson\n",
      "  Attempting uninstall: websocket-client\n",
      "    Found existing installation: websocket-client 0.58.0\n",
      "    Uninstalling websocket-client-0.58.0:\n",
      "      Successfully uninstalled websocket-client-0.58.0\n",
      "  Attempting uninstall: urllib3\n",
      "    Found existing installation: urllib3 1.26.16\n",
      "    Uninstalling urllib3-1.26.16:\n",
      "      Successfully uninstalled urllib3-1.26.16\n",
      "  Attempting uninstall: PyJWT\n",
      "    Found existing installation: PyJWT 2.4.0\n",
      "    Uninstalling PyJWT-2.4.0:\n",
      "      Successfully uninstalled PyJWT-2.4.0\n",
      "Successfully installed PyJWT-2.8.0 ibm-cloud-sdk-core-3.18.0 ibm-watson-7.0.1 urllib3-1.26.18 websocket-client-1.6.4\n"
     ]
    }
   ],
   "source": [
    "!pip install SpeechRecognition\n",
    "!pip install pyaudio\n",
    "!pip install pyttsx3\n",
    "!pip install openai\n",
    "!pip install google-cloud-speech\n",
    "!pip install ibm-watson\n",
    "!pip install sounddevice"
   ]
  },
  {
   "cell_type": "code",
   "execution_count": 3,
   "id": "7a996129",
   "metadata": {},
   "outputs": [],
   "source": [
    "import speech_recognition as sr\n",
    "import pyttsx3\n",
    "import requests\n",
    "import json\n",
    "import sounddevice as sd\n",
    "import datetime\n",
    "import WebBrowser as web"
   ]
  },
  {
   "cell_type": "code",
   "execution_count": 5,
   "id": "c57c6b79",
   "metadata": {},
   "outputs": [
    {
     "name": "stdout",
     "output_type": "stream",
     "text": [
      "3.10.0\n"
     ]
    }
   ],
   "source": [
    "print(sr.__version__)"
   ]
  },
  {
   "cell_type": "code",
   "execution_count": 6,
   "id": "c6e88842",
   "metadata": {},
   "outputs": [],
   "source": [
    "recognizer=sr.Recognizer() # this helps us to recognize the speech and to convert it in a text"
   ]
  },
  {
   "cell_type": "code",
   "execution_count": 7,
   "id": "869e9cfe",
   "metadata": {},
   "outputs": [],
   "source": [
    "recognizer.energy_thershold=300 \n",
    "#If the energy threshold values are more than 300 then it will considered as speech and if the value is less then it will be silent."
   ]
  },
  {
   "cell_type": "markdown",
   "id": "23b06e0d",
   "metadata": {},
   "source": [
    "### Process Audio\n"
   ]
  },
  {
   "cell_type": "code",
   "execution_count": null,
   "id": "003940a6",
   "metadata": {},
   "outputs": [],
   "source": [
    "def Speak(self, audio):\n",
    "    engine=pyttsx3.init('sapi5') #initializing the engine with Speech API 5 backend\n",
    "    voices=engine.getProperty('voices') # list of available voices\n",
    "    engine.getProperty('voice',voices[0].id) #voice for speech output \n",
    "    engine.say(audio)\n",
    "    \n",
    "    engine.runAndWait()"
   ]
  },
  {
   "cell_type": "code",
   "execution_count": 10,
   "id": "4c3cea56",
   "metadata": {},
   "outputs": [
    {
     "name": "stdout",
     "output_type": "stream",
     "text": [
      "Say Something!\n"
     ]
    }
   ],
   "source": [
    "def take_commands(self)\n",
    "r=sr.Recognizer()\n",
    "with sr.Microphone() as source:\n",
    "    print('Say Anything!')\n",
    "    r.pause_threshold=0.8\n",
    "    audio= r.listen(source) #obtaining audio from microphone\n",
    "    try:\n",
    "        print(\"Analyzing\")\n",
    "        Query=r.recognize_google(audio, language='english')\n",
    "        print(\"\\nThe Query is printed:'\",Query,\"'\")\n",
    "    except Exception as e:\n",
    "        \n",
    "        print(e)\n",
    "        print(\"\\nSay again please\")\n",
    "        return \"Nothing\"\n",
    "return Query\n",
    "    "
   ]
  },
  {
   "cell_type": "code",
   "execution_count": null,
   "id": "1291db4d",
   "metadata": {},
   "outputs": [],
   "source": [
    "#running an infinite loop\n",
    "while(1):\n",
    "    try:\n",
    "        with sr.Microphone() as source: #we will use the microphone to take input as an audio file\n",
    "#the users have to wait for sometime to let the recognizer adjust with the energy threshold level\n",
    "            r.adjust_for_ambient_noise(source, duration=0.2)\n",
    "     audio= r.listen(source)\n",
    "        Speech= r.recognize_google(audio)#use google for recognizing the command\n",
    "        Speech= Speech.lower()\n",
    "        \n",
    "        print(\"\\nDid you mean?: \",Speech)\n",
    "        SpeakText(Speech)\n",
    "    except sr.RequestError as e:\n",
    "        print(\"\\nCan't be able to process the result; {0}\".format(e))\n",
    "    except sr.UnknownValueError:\n",
    "        print(\"\\nUnknown error occurred\")\n",
    "exit()"
   ]
  },
  {
   "cell_type": "markdown",
   "id": "e1258d12",
   "metadata": {},
   "source": [
    "#### sending mail and set reminder:"
   ]
  },
  {
   "cell_type": "code",
   "execution_count": null,
   "id": "2c23892b",
   "metadata": {},
   "outputs": [],
   "source": [
    "def email_sending(self):\n",
    "    self.Speak(\"\\nDo you want to send an email?\")\n",
    "    take= self.takeCommand()\n",
    "    choice=take\n",
    "    if choice == 'yes':\n",
    "        print(\"Email sent successfully\")\n",
    "        self.Speak(\"Email sent successfully\")\n",
    "    elif \"set reminder\" in self:\n",
    "        Speak(\"\\nReminder set successfully\")\n",
    "    if choice=='no':\n",
    "        self.Speak(\"\\nThank you!\")"
   ]
  },
  {
   "cell_type": "markdown",
   "id": "5625235c",
   "metadata": {},
   "source": [
    "#### current date and time:"
   ]
  },
  {
   "cell_type": "code",
   "execution_count": null,
   "id": "a8383b3f",
   "metadata": {},
   "outputs": [],
   "source": [
    "def take_commands():\n",
    "    r=sr.Recognizer()\n",
    "    with sr.Microphone as source:\n",
    "        print('Say Anything')\n",
    "        r.pause_threshold=0.8\n",
    "        try:\n",
    "            print(\"\\nAnalyzing your speech\")\n",
    "            Query=r.recognize_google(audio, language='english')\n",
    "            print(\"\\nThe query asked:'\",Query,\"'\")\n",
    "            except Exception as e:\n",
    "                print (e)\n",
    "                print(\"\\nCan't be able to understand.\\nCould you please repeat\")\n",
    "                return \"Nothing\"\n",
    "            return Query\n",
    "        "
   ]
  },
  {
   "cell_type": "code",
   "execution_count": null,
   "id": "3ae9bf97",
   "metadata": {},
   "outputs": [],
   "source": [
    "def Speak(audio):\n",
    "    engine=pyttsx3.init()\n",
    "    voices =engine.setProperty('voices')\n",
    "    engine.setProperty('voice',voices[0].id)\n",
    "    engine.say(audio)\n",
    "    engine.runAndWait()\n",
    "    "
   ]
  },
  {
   "cell_type": "code",
   "execution_count": null,
   "id": "438b6dde",
   "metadata": {},
   "outputs": [],
   "source": [
    "def DateAndTime():\n",
    "    day= datetime.datetime.today().weekday()+ 1\n",
    "    Day_Dictionary={1:'Monday',2:'Tuesday',3:'Wednesday',4:'Thursday',5:'Friday',6:'Saturday',7:'Sunday'}\n",
    "    if day in Day_Dictionary.keys():\n",
    "        Today= Day_Dictionary[day]\n",
    "        print(Today)\n",
    "        speak(\"\\nThe day is:\"+Today)\n",
    "        current_time= now.strftime(\"%H:%M:%S\")\n",
    "        print(Current_time)\n",
    "        speak(\"\\nThe time is:\")\n",
    "def main():\n",
    "    pass\n",
    "def speak(text):\n",
    "    pass\n",
    "       \n",
    "if __name__=='__main__':\n",
    "    main()\n",
    "    if \"day\" in command:\n",
    "        DateAndTime()"
   ]
  },
  {
   "cell_type": "markdown",
   "id": "637e7650",
   "metadata": {},
   "source": [
    "### E-mail sending"
   ]
  },
  {
   "cell_type": "code",
   "execution_count": null,
   "id": "6ac234cd",
   "metadata": {},
   "outputs": [],
   "source": [
    "!pip install nltk #Natural Lnguage Toolkit"
   ]
  },
  {
   "cell_type": "code",
   "execution_count": null,
   "id": "4b884fc1",
   "metadata": {},
   "outputs": [],
   "source": [
    "import smtplib\n",
    "from email.mime.text import MIMEText\n",
    "from email.mime.multipart import MIMEMultipart\n",
    "from email.mime.application import MIMEApplication"
   ]
  },
  {
   "cell_type": "code",
   "execution_count": null,
   "id": "bf27f7d4",
   "metadata": {},
   "outputs": [],
   "source": [
    "#set up the email account:\n",
    "sender_email=\"abc@gmail.com\"\n",
    "sender_password= \"Password_123\"\n",
    "#set up reciever's email:\n",
    "recipient_email= \"pqr@example.com\""
   ]
  },
  {
   "cell_type": "code",
   "execution_count": null,
   "id": "60858cf2",
   "metadata": {},
   "outputs": [],
   "source": [
    "#set up the server,I am using gmail\n",
    "def send_email(subject,body,attachment_path=None):\n",
    "    server=smtplib.SMTP(\"smtp.gmail.com\",587)\n",
    "    server.starttls()\n",
    "    server.login(sender_email,sender_password)\n",
    "    \n",
    "    message = MIMEMultipart()\n",
    "    message[\"From\"]=sender_email\n",
    "    message[\"To\"]=recipient_email\n",
    "    message=[\"Subject\"]= subject\n",
    "    message.attach(MIMEText(body,\"plain\"))\n",
    "    \n",
    "    #attach any file if required:\n",
    "    if attachment_path:\n",
    "        with open(attachment_path, \"rb\")as attachment:\n",
    "            part= MIMEApplication(attachment.read(),Name=\"abc.pdf\")\n",
    "            part[\"Content-Disposition\"]= f\"attachment;filename={attachment_path}\n",
    "            message.attach(part)\n",
    "    #sending mail:\n",
    "    server.sendmail(sender_email,recipient_email,message.as_string())\n",
    "    server.quit() #closing server connection\n",
    "    "
   ]
  },
  {
   "cell_type": "code",
   "execution_count": null,
   "id": "e1666647",
   "metadata": {},
   "outputs": [],
   "source": [
    "def voice_to_text():\n",
    "    recognizer=sr.Recognizer()\n",
    "    \n",
    "    with sr.Microphone() as source:\n",
    "        print(\"Give me the command...\")\n",
    "        recognizer.adjust_for_ambient_noise(source)\n",
    "        audio=recognizer.listen(source)\n",
    "        \n",
    "        try:\n",
    "            print(\"Recognizing....\")\n",
    "            text=recognizer.recognize_google(audio)\n",
    "            print(f\"You said:{text}\")\n",
    "            return text.lower()\n",
    "        except sr.UnknownValueError:\n",
    "            print(f\"Pardon\")\n",
    "            return \"\"\n",
    "        except sr.RequestError as e:\n",
    "            print(f\"Can't connected to network: {e}\")\n",
    "            return \"\"\n",
    "        "
   ]
  },
  {
   "cell_type": "code",
   "execution_count": null,
   "id": "1e79a3f1",
   "metadata": {},
   "outputs": [],
   "source": [
    "def main():\n",
    "    \n",
    "    print(\"Voice Assistant: Email Sender\")\n",
    "    while True:\n",
    "        command=voice_to_text()\n",
    "        if \"send email\" in command:\n",
    "            print(\"\\nTell me the subject of your email:\")\n",
    "            subject=voice_to_text()\n",
    "            \n",
    "            print(\"\\nWhat will be the body of mail?\")\n",
    "            body=voice_to_text()\n",
    "            \n",
    "            #you can add an attachment file path too\n",
    "            #the code will be: attachment_path=\"path_of_the_file_from_properties_of_the_file.pdf\"\n",
    "            send_email(subject,body)\n",
    "            #send_email(subject,body,attachment_path)\n",
    "            \n",
    "            elif \"exit\" in command or \"quit\" in command:\n",
    "                print(\"Exits from the voice assistant.\")\n",
    "                break\n",
    "                "
   ]
  },
  {
   "cell_type": "code",
   "execution_count": null,
   "id": "d613099a",
   "metadata": {},
   "outputs": [],
   "source": [
    "if __name__==\"__main__\"\n",
    "main()"
   ]
  }
 ],
 "metadata": {
  "kernelspec": {
   "display_name": "Python 3 (ipykernel)",
   "language": "python",
   "name": "python3"
  },
  "language_info": {
   "codemirror_mode": {
    "name": "ipython",
    "version": 3
   },
   "file_extension": ".py",
   "mimetype": "text/x-python",
   "name": "python",
   "nbconvert_exporter": "python",
   "pygments_lexer": "ipython3",
   "version": "3.11.5"
  }
 },
 "nbformat": 4,
 "nbformat_minor": 5
}
